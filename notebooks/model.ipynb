{
 "cells": [
  {
   "cell_type": "code",
   "execution_count": 1,
   "metadata": {},
   "outputs": [],
   "source": [
    "import pandas as pd\n",
    "import numpy as np\n",
    "import matplotlib.pyplot as plt\n",
    "import seaborn as sns\n",
    "from sklearn.feature_selection import VarianceThreshold\n",
    "from sklearn.model_selection import train_test_split\n",
    "\n",
    "from utils.model_utils import *"
   ]
  },
  {
   "cell_type": "markdown",
   "metadata": {},
   "source": [
    "## 1. Redimensionando e Selecionando os atributos"
   ]
  },
  {
   "cell_type": "code",
   "execution_count": 2,
   "metadata": {},
   "outputs": [],
   "source": [
    "df = pd.read_csv(\"../data\\creditcardClean.csv\")"
   ]
  },
  {
   "cell_type": "code",
   "execution_count": 3,
   "metadata": {},
   "outputs": [],
   "source": [
    "# Separando os dados entre X(Variaveis que serão usadas para fazer a previsão) e y(a classe a ser prevista).\n",
    "X = df.drop('Class', axis=1)\n",
    "y = df['Class']"
   ]
  },
  {
   "cell_type": "code",
   "execution_count": 4,
   "metadata": {},
   "outputs": [],
   "source": [
    "X.drop([\"Unnamed: 0\", \"Time\"], axis=1, inplace=True)"
   ]
  },
  {
   "cell_type": "code",
   "execution_count": 5,
   "metadata": {},
   "outputs": [],
   "source": [
    "# Selecionando os atributos de acordo com a variancia\n",
    "selection = VarianceThreshold(threshold=0.400)\n",
    "X_selection = selection.fit_transform(X)"
   ]
  },
  {
   "cell_type": "code",
   "execution_count": 6,
   "metadata": {},
   "outputs": [
    {
     "data": {
      "text/plain": [
       "array([3.79479247e+00, 2.71162110e+00, 2.27611310e+00, 1.99990938e+00,\n",
       "       1.89614512e+00, 1.77403285e+00, 1.50715333e+00, 1.39016444e+00,\n",
       "       1.20009955e+00, 1.15864870e+00, 1.03778709e+00, 9.89373765e-01,\n",
       "       9.90876669e-01, 9.06710382e-01, 8.37027410e-01, 7.63342582e-01,\n",
       "       7.09816084e-01, 7.01198656e-01, 6.61582339e-01, 5.92873642e-01,\n",
       "       5.24042924e-01, 5.24971527e-01, 3.89003286e-01, 3.66782405e-01,\n",
       "       2.71669661e-01, 2.32374219e-01, 1.56612667e-01, 1.07601074e-01,\n",
       "       6.26996571e+04])"
      ]
     },
     "execution_count": 6,
     "metadata": {},
     "output_type": "execute_result"
    }
   ],
   "source": [
    "selection.variances_"
   ]
  },
  {
   "cell_type": "code",
   "execution_count": 7,
   "metadata": {},
   "outputs": [
    {
     "data": {
      "text/plain": [
       "(283726, 23)"
      ]
     },
     "execution_count": 7,
     "metadata": {},
     "output_type": "execute_result"
    }
   ],
   "source": [
    "X_selection.shape"
   ]
  },
  {
   "cell_type": "code",
   "execution_count": 8,
   "metadata": {},
   "outputs": [],
   "source": [
    "X_selection = pd.DataFrame(X_selection, columns=X.iloc[:, 0:23].columns)"
   ]
  },
  {
   "cell_type": "code",
   "execution_count": 9,
   "metadata": {},
   "outputs": [],
   "source": [
    "# Divindo entre treino e teste, evitando o overfitting.\n",
    "X_train, X_test, y_train, y_test = train_test_split(X_selection, y, test_size=0.25,  random_state=3)"
   ]
  },
  {
   "cell_type": "code",
   "execution_count": 10,
   "metadata": {},
   "outputs": [
    {
     "data": {
      "text/plain": [
       "((212794, 23), (70932, 23))"
      ]
     },
     "execution_count": 10,
     "metadata": {},
     "output_type": "execute_result"
    }
   ],
   "source": [
    "X_train.shape, X_test.shape"
   ]
  },
  {
   "cell_type": "code",
   "execution_count": 11,
   "metadata": {},
   "outputs": [
    {
     "data": {
      "text/plain": [
       "((212794,), (70932,))"
      ]
     },
     "execution_count": 11,
     "metadata": {},
     "output_type": "execute_result"
    }
   ],
   "source": [
    "y_train.shape, y_test.shape"
   ]
  },
  {
   "cell_type": "code",
   "execution_count": 12,
   "metadata": {},
   "outputs": [
    {
     "data": {
      "text/plain": [
       "(Class\n",
       " 0    212427\n",
       " 1       367\n",
       " Name: count, dtype: int64,\n",
       " Class\n",
       " 0    70826\n",
       " 1      106\n",
       " Name: count, dtype: int64)"
      ]
     },
     "execution_count": 12,
     "metadata": {},
     "output_type": "execute_result"
    }
   ],
   "source": [
    "y_train.value_counts(), y_test.value_counts()"
   ]
  },
  {
   "cell_type": "markdown",
   "metadata": {},
   "source": [
    "## 2. Avaliando modelos e hiperparamteros"
   ]
  },
  {
   "cell_type": "code",
   "execution_count": 13,
   "metadata": {},
   "outputs": [
    {
     "name": "stdout",
     "output_type": "stream",
     "text": [
      "SVC(probability=True)\n",
      " \n",
      "F1 Score train: 0.821\n",
      "Accuracy train: 0.999\n",
      "Recall train: 0.796\n",
      "Precision train: 0.849\n",
      "Log loss train: 0.022\n",
      "- - - - - - - - - - - - - - - - - - - - - - - - - - - - - - \n",
      "F1 Score test: 0.769\n",
      "Accuracy test: 0.999\n",
      "Recall test: 0.783\n",
      "Precision test: 0.755\n",
      "Log loss test: 0.025\n",
      "--------------------------------------------------\n",
      "LogisticRegression()\n",
      " \n",
      "F1 Score train: 0.650\n",
      "Accuracy train: 0.999\n",
      "Recall train: 0.520\n",
      "Precision train: 0.864\n",
      "Log loss train: 0.035\n",
      "- - - - - - - - - - - - - - - - - - - - - - - - - - - - - - \n",
      "F1 Score test: 0.595\n",
      "Accuracy test: 0.999\n",
      "Recall test: 0.472\n",
      "Precision test: 0.806\n",
      "Log loss test: 0.035\n",
      "--------------------------------------------------\n",
      "RandomForestClassifier()\n",
      " \n",
      "F1 Score train: 1.000\n",
      "Accuracy train: 1.000\n",
      "Recall train: 1.000\n",
      "Precision train: 1.000\n",
      "Log loss train: 0.000\n",
      "- - - - - - - - - - - - - - - - - - - - - - - - - - - - - - \n",
      "F1 Score test: 0.844\n",
      "Accuracy test: 1.000\n",
      "Recall test: 0.792\n",
      "Precision test: 0.903\n",
      "Log loss test: 0.016\n",
      "--------------------------------------------------\n",
      "AdaBoostClassifier(algorithm='SAMME')\n",
      " \n",
      "F1 Score train: 0.737\n",
      "Accuracy train: 0.999\n",
      "Recall train: 0.676\n",
      "Precision train: 0.810\n",
      "Log loss train: 0.030\n",
      "- - - - - - - - - - - - - - - - - - - - - - - - - - - - - - \n",
      "F1 Score test: 0.710\n",
      "Accuracy test: 0.999\n",
      "Recall test: 0.670\n",
      "Precision test: 0.755\n",
      "Log loss test: 0.029\n",
      "--------------------------------------------------\n"
     ]
    }
   ],
   "source": [
    "validation_clf_models(X_train, X_test, y_train, y_test)"
   ]
  },
  {
   "cell_type": "code",
   "execution_count": 14,
   "metadata": {},
   "outputs": [
    {
     "data": {
      "image/png": "[encoded data removed]",
      "text/plain": [
       "<Figure size 640x480 with 1 Axes>"
      ]
     },
     "metadata": {},
     "output_type": "display_data"
    }
   ],
   "source": [
    "plot_validation_clf_models(X_train, X_test, y_train, y_test)"
   ]
  }
 ],
 "metadata": {
  "kernelspec": {
   "display_name": "venv",
   "language": "python",
   "name": "python3"
  },
  "language_info": {
   "codemirror_mode": {
    "name": "ipython",
    "version": 3
   },
   "file_extension": ".py",
   "mimetype": "text/x-python",
   "name": "python",
   "nbconvert_exporter": "python",
   "pygments_lexer": "ipython3",
   "version": "3.10.11"
  }
 },
 "nbformat": 4,
 "nbformat_minor": 2
}
